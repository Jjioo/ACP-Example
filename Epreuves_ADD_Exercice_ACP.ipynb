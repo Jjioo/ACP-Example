{
  "nbformat": 4,
  "nbformat_minor": 0,
  "metadata": {
    "colab": {
      "provenance": []
    },
    "kernelspec": {
      "name": "python3",
      "display_name": "Python 3"
    },
    "language_info": {
      "name": "python"
    }
  },
  "cells": [
    {
      "cell_type": "code",
      "source": [
        "import numpy as np\n",
        "\n",
        "Service = [-2,-1,2,1]\n",
        "Qualite = [3,1,-1,3]\n",
        "Prix = [-1,0,-1,2]\n",
        "# Compute the means\n",
        "mx = np.mean(Service)\n",
        "my = np.mean(Qualite)\n",
        "mz = np.mean(Prix)\n",
        "\n",
        "print(mx)\n",
        "print(my)\n",
        "print(mz)\n",
        "\n",
        "# Create a matrix with x,y and z as columns\n",
        "matrix = np.column_stack((Service, Qualite, Prix))\n",
        "\n",
        "# Print the matrix\n",
        "print(matrix)\n"
      ],
      "metadata": {
        "colab": {
          "base_uri": "https://localhost:8080/"
        },
        "id": "4PQIymnWca61",
        "outputId": "f1b29f2b-267c-49c4-b26f-a87ee625a4d5"
      },
      "execution_count": 27,
      "outputs": [
        {
          "output_type": "stream",
          "name": "stdout",
          "text": [
            "0.0\n",
            "1.5\n",
            "0.0\n",
            "[[-2  3 -1]\n",
            " [-1  1  0]\n",
            " [ 2 -1 -1]\n",
            " [ 1  3  2]]\n"
          ]
        }
      ]
    },
    {
      "cell_type": "code",
      "source": [
        "#print variance of X1 and X2 and X3\n",
        "varS=np.var(Service)\n",
        "varQ=np.var(Qualite)\n",
        "varP=np.var(Prix)\n",
        "print(varS)\n",
        "print(varQ)\n",
        "print(varP)"
      ],
      "metadata": {
        "colab": {
          "base_uri": "https://localhost:8080/"
        },
        "id": "LbgDPcb--r7m",
        "outputId": "e7abaa55-c591-4bb1-aea1-26b25b9260b0"
      },
      "execution_count": 28,
      "outputs": [
        {
          "output_type": "stream",
          "name": "stdout",
          "text": [
            "2.5\n",
            "2.75\n",
            "1.5\n"
          ]
        }
      ]
    },
    {
      "cell_type": "code",
      "source": [
        "#print ecart type of X1 and X2,X3\n",
        "# Compute the standard deviations\n",
        "std_x = np.std(Service)\n",
        "std_y = np.std(Qualite)\n",
        "std_z = np.std(Prix)\n",
        "\n",
        "print(std_x)\n",
        "print(std_y)\n",
        "print(std_z)"
      ],
      "metadata": {
        "colab": {
          "base_uri": "https://localhost:8080/"
        },
        "id": "ZlU9Wm_Y_g-g",
        "outputId": "5ac31a92-4f08-41b6-bbe1-c0a0f8c33a9f"
      },
      "execution_count": 29,
      "outputs": [
        {
          "output_type": "stream",
          "name": "stdout",
          "text": [
            "1.5811388300841898\n",
            "1.6583123951777\n",
            "1.224744871391589\n"
          ]
        }
      ]
    },
    {
      "cell_type": "code",
      "source": [
        "#Xc which is matrix - (mx,my,mz)\n",
        "Xc = matrix - np.array([[mx, my,mz]])\n",
        "print(Xc)"
      ],
      "metadata": {
        "id": "nqr-xPu2_g7a",
        "colab": {
          "base_uri": "https://localhost:8080/"
        },
        "outputId": "d1a2d33a-610f-4764-9233-01b34ddd9dd6"
      },
      "execution_count": 30,
      "outputs": [
        {
          "output_type": "stream",
          "name": "stdout",
          "text": [
            "[[-2.   1.5 -1. ]\n",
            " [-1.  -0.5  0. ]\n",
            " [ 2.  -2.5 -1. ]\n",
            " [ 1.   1.5  2. ]]\n"
          ]
        }
      ]
    },
    {
      "cell_type": "code",
      "source": [
        "n = len(matrix)"
      ],
      "metadata": {
        "id": "kSqeuYfZ2-hN"
      },
      "execution_count": 31,
      "outputs": []
    },
    {
      "cell_type": "code",
      "source": [
        "#Xc transpose\n",
        "XcT = np.transpose(Xc)\n",
        "V = 1/n * (XcT@Xc)\n",
        "V"
      ],
      "metadata": {
        "id": "t180Waz__g3g",
        "colab": {
          "base_uri": "https://localhost:8080/"
        },
        "outputId": "9ef0a449-2290-4a9c-97a8-dca0afd75601"
      },
      "execution_count": 32,
      "outputs": [
        {
          "output_type": "execute_result",
          "data": {
            "text/plain": [
              "array([[ 2.5 , -1.5 ,  0.5 ],\n",
              "       [-1.5 ,  2.75,  1.  ],\n",
              "       [ 0.5 ,  1.  ,  1.5 ]])"
            ]
          },
          "metadata": {},
          "execution_count": 32
        }
      ]
    },
    {
      "cell_type": "code",
      "source": [
        "#D matrix diag(1/np.std(x),1/np.std(y))\n",
        "# Create the diagonal matrix D\n",
        "D = np.diag(1 / np.std(matrix, axis=0))\n",
        "\n",
        "print(D)"
      ],
      "metadata": {
        "id": "uef3zfndMMI-",
        "colab": {
          "base_uri": "https://localhost:8080/"
        },
        "outputId": "e4b6fa6e-3681-48fa-b628-3c1edc66b202"
      },
      "execution_count": 33,
      "outputs": [
        {
          "output_type": "stream",
          "name": "stdout",
          "text": [
            "[[0.63245553 0.         0.        ]\n",
            " [0.         0.60302269 0.        ]\n",
            " [0.         0.         0.81649658]]\n"
          ]
        }
      ]
    },
    {
      "cell_type": "code",
      "source": [
        "#Xcr = Xc @ D\n",
        "Xcr = Xc @ D\n",
        "print(Xcr)"
      ],
      "metadata": {
        "colab": {
          "base_uri": "https://localhost:8080/"
        },
        "id": "C_u_H7cNfIeJ",
        "outputId": "9a6c731b-5a86-4c84-8518-7556d6b78fe2"
      },
      "execution_count": 34,
      "outputs": [
        {
          "output_type": "stream",
          "name": "stdout",
          "text": [
            "[[-1.26491106  0.90453403 -0.81649658]\n",
            " [-0.63245553 -0.30151134  0.        ]\n",
            " [ 1.26491106 -1.50755672 -0.81649658]\n",
            " [ 0.63245553  0.90453403  1.63299316]]\n"
          ]
        }
      ]
    },
    {
      "cell_type": "code",
      "source": [
        "#Xcr transpose\n",
        "XcrT = np.transpose(Xcr)\n",
        "R = 1/n * (XcrT@Xcr)\n",
        "R"
      ],
      "metadata": {
        "colab": {
          "base_uri": "https://localhost:8080/"
        },
        "id": "kGuy02YVf4TM",
        "outputId": "b2e7bfd5-9198-405b-f112-26037410e7c3"
      },
      "execution_count": 64,
      "outputs": [
        {
          "output_type": "execute_result",
          "data": {
            "text/plain": [
              "array([[ 1.        , -0.57207755,  0.25819889],\n",
              "       [-0.57207755,  1.        ,  0.49236596],\n",
              "       [ 0.25819889,  0.49236596,  1.        ]])"
            ]
          },
          "metadata": {},
          "execution_count": 64
        }
      ]
    },
    {
      "cell_type": "code",
      "source": [
        "# Calculate eigenvalues and eigenvectors\n",
        "s, u = np.linalg.eig(R)\n",
        "\n",
        "indices = np.argsort(s)[::-1]\n",
        "s = s[indices]\n",
        "u = u[:, indices]\n"
      ],
      "metadata": {
        "id": "Vprra2wl4vTL"
      },
      "execution_count": 74,
      "outputs": []
    },
    {
      "cell_type": "code",
      "source": [
        "lambda1 , lambda2,lamda3= s\n",
        "print(lambda1)\n",
        "print(lambda2)\n",
        "print(lamda3)\n"
      ],
      "metadata": {
        "colab": {
          "base_uri": "https://localhost:8080/"
        },
        "id": "SSsmqmO8hQQ-",
        "outputId": "6c0f8665-b663-4e9a-b213-17e166f1f1a3"
      },
      "execution_count": 75,
      "outputs": [
        {
          "output_type": "stream",
          "name": "stdout",
          "text": [
            "1.6394490533741495\n",
            "1.2544638722446844\n",
            "0.10608707438116793\n"
          ]
        }
      ]
    },
    {
      "cell_type": "code",
      "source": [
        "#les vecteures propres U1,U2,U3 and create matrix U\n",
        "U1,U2,U3 = u[:,0],u[:,1],u[:,2]\n",
        "U = np.column_stack((U1,U2,U3))\n",
        "print(U)\n"
      ],
      "metadata": {
        "colab": {
          "base_uri": "https://localhost:8080/"
        },
        "id": "YpyFQuz3iYX9",
        "outputId": "00c3e006-2d70-4595-9ee1-66a623ed5f79"
      },
      "execution_count": 76,
      "outputs": [
        {
          "output_type": "stream",
          "name": "stdout",
          "text": [
            "[[-0.53103696  0.63393649  0.5622493 ]\n",
            " [ 0.76140143  0.06581093  0.64493161]\n",
            " [ 0.37184353  0.77057995 -0.51762818]]\n"
          ]
        }
      ]
    },
    {
      "cell_type": "markdown",
      "source": [
        "# **Qualite de ACP**"
      ],
      "metadata": {
        "id": "vibwrq6BjU-f"
      }
    },
    {
      "cell_type": "code",
      "source": [
        "#les cordonnees des individus Xcr@U\n",
        "individus_cordinate  = Xcr@U\n",
        "print(individus_cordinate)"
      ],
      "metadata": {
        "colab": {
          "base_uri": "https://localhost:8080/"
        },
        "id": "Q5jGpuMMinHB",
        "outputId": "f5aa37c0-64a9-419b-fdd9-1a4d5df72ff2"
      },
      "execution_count": 77,
      "outputs": [
        {
          "output_type": "stream",
          "name": "stdout",
          "text": [
            "[[ 1.05681905 -1.37152095  0.29480887]\n",
            " [ 0.10628609 -0.42077938 -0.55005188]\n",
            " [-2.12317934  0.07348368  0.16156602]\n",
            " [ 0.96007419  1.71881664  0.093677  ]]\n"
          ]
        }
      ]
    },
    {
      "cell_type": "code",
      "source": [
        "#variance of  Xcr@U is always  = lamda1 and lamda2"
      ],
      "metadata": {
        "id": "Z5w8VsUlphKh"
      },
      "execution_count": null,
      "outputs": []
    },
    {
      "cell_type": "code",
      "source": [
        "#les cordonees des variables: matrixCordinateVariable =  U[:,i] * np.sqrt(lambda i)\n",
        "matrixCordinateVariable = U * np.sqrt(s)\n",
        "print(matrixCordinateVariable)"
      ],
      "metadata": {
        "id": "TE1pUAs_jm2Z",
        "colab": {
          "base_uri": "https://localhost:8080/"
        },
        "outputId": "60e33d5f-df43-4bfe-89a9-b3a053a7c988"
      },
      "execution_count": 84,
      "outputs": [
        {
          "output_type": "stream",
          "name": "stdout",
          "text": [
            "[[-0.67994488  0.71002694  0.18313028]\n",
            " [ 0.97490579  0.07371011  0.21006075]\n",
            " [ 0.47611208  0.86307151 -0.16859673]]\n"
          ]
        }
      ]
    },
    {
      "cell_type": "markdown",
      "source": [
        "# quality representation"
      ],
      "metadata": {
        "id": "jtPACAaox6t3"
      }
    },
    {
      "cell_type": "code",
      "source": [
        "import numpy as np\n",
        "\n",
        "# Initialize lists for axe1 and axe2 values\n",
        "axe1 = []\n",
        "axe2 = []\n",
        "\n",
        "# Loop through each individual (i)\n",
        "for i in range(len(individus_cordinate)):\n",
        "    # Compute the values for quality_representation_1 and quality_representation_2\n",
        "    sum_Xcr_squared = Xcr[i][0]**2 + Xcr[i][1]**2 +Xcr[i][2]**2\n",
        "    quality_representation_1 = (individus_cordinate[i][0]**2) / sum_Xcr_squared\n",
        "    quality_representation_2 = (individus_cordinate[i][1]**2) / sum_Xcr_squared\n",
        "\n",
        "    # Append the values for axe1 and axe2\n",
        "    axe1.append(quality_representation_1)\n",
        "    axe2.append(quality_representation_2)\n",
        "\n",
        "# Print the table with axe1 and axe2 values\n",
        "print(\"Index | axe1   | axe2\")\n",
        "print(\"-------------------------\")\n",
        "for i in range(len(axe1)):\n",
        "    print(f\"{i+1:5d} | {axe1[i]:.4f} | {axe2[i]:.4f}\")\n"
      ],
      "metadata": {
        "colab": {
          "base_uri": "https://localhost:8080/"
        },
        "id": "Z-PRPQNVvr7-",
        "outputId": "125dffab-2ad8-44f3-b50c-f152f46ccd17"
      },
      "execution_count": 86,
      "outputs": [
        {
          "output_type": "stream",
          "name": "stdout",
          "text": [
            "Index | axe1   | axe2\n",
            "-------------------------\n",
            "    1 | 0.3620 | 0.6098\n",
            "    2 | 0.0230 | 0.3607\n",
            "    3 | 0.9931 | 0.0012\n",
            "    4 | 0.2373 | 0.7605\n"
          ]
        }
      ]
    },
    {
      "cell_type": "code",
      "source": [],
      "metadata": {
        "id": "EO9aH8BbwpPx"
      },
      "execution_count": null,
      "outputs": []
    },
    {
      "cell_type": "markdown",
      "source": [
        "# Contribution a la variance"
      ],
      "metadata": {
        "id": "lG4D3--Jx90x"
      }
    },
    {
      "cell_type": "code",
      "source": [
        "for i in range(n):\n",
        "\n",
        "  axe1 = (individus_cordinate[i,0]) **2 / (n* lambda1)\n",
        "  axe2 = (individus_cordinate[i,1]) **2 / (n* lambda2)\n",
        "  print(f\"axe1 = {axe1}\")\n",
        "  print(f\"axe2 = {axe2}\")\n",
        "  print(\"-------------------------\")"
      ],
      "metadata": {
        "colab": {
          "base_uri": "https://localhost:8080/"
        },
        "id": "lZLSOn79yEha",
        "outputId": "06b861fb-e908-42b7-feb0-7117a9797aeb"
      },
      "execution_count": 87,
      "outputs": [
        {
          "output_type": "stream",
          "name": "stdout",
          "text": [
            "axe1 = 0.17031125635323638\n",
            "axe2 = 0.374875224874432\n",
            "-------------------------\n",
            "axe1 = 0.0017226417275587982\n",
            "axe2 = 0.03528505076758529\n",
            "-------------------------\n",
            "axe1 = 0.6874093617699396\n",
            "axe2 = 0.0010761273852374516\n",
            "-------------------------\n",
            "axe1 = 0.1405567401492652\n",
            "axe2 = 0.5887635969727444\n",
            "-------------------------\n"
          ]
        }
      ]
    },
    {
      "cell_type": "code",
      "source": [
        "from prettytable import PrettyTable\n",
        "\n",
        "# Create a PrettyTable object\n",
        "table = PrettyTable()\n",
        "\n",
        "# Add columns to the table\n",
        "table.field_names = [\"axe1\", \"axe2\"]\n",
        "\n",
        "# Add rows to the table\n",
        "table.add_row([0.17031125635323638, 0.374875224874432])\n",
        "table.add_row([0.0017226417275587982, 0.03528505076758529])\n",
        "table.add_row([0.6874093617699396, 0.0010761273852374516])\n",
        "table.add_row([0.1405567401492652, 0.5887635969727444])\n",
        "\n",
        "# Set formatting for floating-point numbers\n",
        "table.float_format = \".6\"  # Display up to 6 decimal places\n",
        "\n",
        "# Print the table\n",
        "print(table)\n"
      ],
      "metadata": {
        "id": "4tAHS1zT0oVo",
        "colab": {
          "base_uri": "https://localhost:8080/"
        },
        "outputId": "4dfc131c-2fa8-4cc1-8765-d1f3d489cb71"
      },
      "execution_count": 88,
      "outputs": [
        {
          "output_type": "stream",
          "name": "stdout",
          "text": [
            "+----------+----------+\n",
            "|   axe1   |   axe2   |\n",
            "+----------+----------+\n",
            "| 0.170311 | 0.374875 |\n",
            "| 0.001723 | 0.035285 |\n",
            "| 0.687409 | 0.001076 |\n",
            "| 0.140557 | 0.588764 |\n",
            "+----------+----------+\n"
          ]
        }
      ]
    },
    {
      "cell_type": "code",
      "source": [],
      "metadata": {
        "id": "J2nYRJsUAJh0"
      },
      "execution_count": null,
      "outputs": []
    },
    {
      "cell_type": "code",
      "source": [],
      "metadata": {
        "id": "Nl2oHlEmAJbw"
      },
      "execution_count": null,
      "outputs": []
    },
    {
      "cell_type": "code",
      "source": [],
      "metadata": {
        "id": "BTCiWouMASwa"
      },
      "execution_count": null,
      "outputs": []
    }
  ]
}